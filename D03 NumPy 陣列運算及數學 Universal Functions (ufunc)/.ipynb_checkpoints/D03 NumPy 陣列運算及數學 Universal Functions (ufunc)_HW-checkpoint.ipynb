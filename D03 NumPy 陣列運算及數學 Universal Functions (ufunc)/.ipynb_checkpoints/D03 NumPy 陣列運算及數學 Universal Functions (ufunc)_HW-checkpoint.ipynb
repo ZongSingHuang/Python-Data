{
 "cells": [
  {
   "cell_type": "markdown",
   "metadata": {
    "id": "rY2oyzUo2wKZ"
   },
   "source": [
    "作業目標:<br>\n",
    "嘗試練習log的函式並應用<br>\n",
    "作業重點:<br>\n",
    "學員需要複習log的轉換方式<br>\n",
    "熟悉運用指數函數以及對數函數"
   ]
  },
  {
   "cell_type": "markdown",
   "metadata": {
    "id": "Esjhs7zz2y95"
   },
   "source": [
    "題目:<br>\n",
    "運用投影片中的分貝公式回答下列問題。<br>\n",
    "1.正常的談話的聲壓為20000微巴斯卡，請問多少分貝?<br>\n",
    "2.30分貝的聲壓會是50分貝的幾倍?\n"
   ]
  },
  {
   "cell_type": "code",
   "execution_count": 1,
   "metadata": {
    "id": "SKVoN9E82yQi"
   },
   "outputs": [],
   "source": [
    "import numpy as np "
   ]
  },
  {
   "cell_type": "code",
   "execution_count": 2,
   "metadata": {
    "id": "knBzIEbisYO_"
   },
   "outputs": [
    {
     "data": {
      "text/plain": [
       "60.0"
      ]
     },
     "execution_count": 2,
     "metadata": {},
     "output_type": "execute_result"
    }
   ],
   "source": [
    "#1.正常的談話的聲壓為20000微巴斯卡，請問多少分貝?\n",
    "#請寫下程式\n",
    "V1 = 20000\n",
    "V0 = 20\n",
    "\n",
    "V0*np.log10(V1/V0)"
   ]
  },
  {
   "cell_type": "code",
   "execution_count": 3,
   "metadata": {
    "id": "5Vknqg8esbl_"
   },
   "outputs": [],
   "source": [
    "#2.30分貝的聲壓會是50分貝的幾倍?\n",
    "#公式移項過後可以得到 V1 = ?\n",
    "#請寫下程式"
   ]
  },
  {
   "cell_type": "code",
   "execution_count": 4,
   "metadata": {},
   "outputs": [
    {
     "name": "stdout",
     "output_type": "stream",
     "text": [
      "0.1\n"
     ]
    }
   ],
   "source": [
    "#2.30分貝的聲壓會是50分貝的幾倍?\n",
    "db_30 = 30\n",
    "upa1 = 20*10**(db_30/20)\n",
    "\n",
    "db_50 = 50\n",
    "upa2 = 20*10**(db_50/20)\n",
    "\n",
    "print(round(upa1/upa2, 2))"
   ]
  },
  {
   "cell_type": "markdown",
   "metadata": {},
   "source": [
    "$$\n",
    "\\mathrm{dB}=20\\times \\log _{10}\\left( \\frac{\\mu \\mathrm{Pa}}{20} \\right) \n",
    "\\\\\n",
    "\\mu \\mathrm{Pa}=20\\times 10^{\\left( \\frac{\\mathrm{dB}}{20} \\right)}\n",
    "$$\n",
    "\n",
    "http://www.mingdao.edu.tw/senior/ncov/doc0/108%E5%AD%B8%E5%B9%B4%E5%BA%A6%E4%B8%8A%E5%AD%B8%E6%9C%9F%E9%AB%98%E4%B8%80%E6%95%B8%E5%AD%B8%E5%AD%B8%E7%BF%92%E6%88%90%E6%9E%9C%E3%80%90%E6%95%B8%E5%AD%97%E6%90%9C%E6%9F%A5%E7%B7%9A(%E6%95%99%E7%94%A8)%E3%80%91.pdf\n",
    "https://stackoverflow.com/questions/51669367/how-to-get-the-inverse-of-a-log10-value-in-python"
   ]
  },
  {
   "cell_type": "code",
   "execution_count": 5,
   "metadata": {},
   "outputs": [
    {
     "name": "stdout",
     "output_type": "stream",
     "text": [
      "upa= 20.0\n"
     ]
    }
   ],
   "source": [
    "# dB => upa\n",
    "db = 0\n",
    "print('upa=', 20*10**(db/20))"
   ]
  },
  {
   "cell_type": "code",
   "execution_count": 6,
   "metadata": {},
   "outputs": [
    {
     "name": "stdout",
     "output_type": "stream",
     "text": [
      "dB= 0.0\n"
     ]
    }
   ],
   "source": [
    "# upa => dB\n",
    "upa = 20\n",
    "print('dB=', 20*np.log10(upa/20))"
   ]
  },
  {
   "cell_type": "code",
   "execution_count": 7,
   "metadata": {},
   "outputs": [
    {
     "data": {
      "text/plain": [
       "20.0"
      ]
     },
     "execution_count": 7,
     "metadata": {},
     "output_type": "execute_result"
    }
   ],
   "source": [
    "# 0dB = 20upa\n",
    "db_0 = 0\n",
    "20*10**(db_0/20)"
   ]
  },
  {
   "cell_type": "code",
   "execution_count": 8,
   "metadata": {},
   "outputs": [
    {
     "data": {
      "text/plain": [
       "200.0"
      ]
     },
     "execution_count": 8,
     "metadata": {},
     "output_type": "execute_result"
    }
   ],
   "source": [
    "# 20dB = 200upa\n",
    "db_20 = 20\n",
    "20*10**(db_20/20)"
   ]
  },
  {
   "cell_type": "code",
   "execution_count": 9,
   "metadata": {},
   "outputs": [
    {
     "data": {
      "text/plain": [
       "2000.0"
      ]
     },
     "execution_count": 9,
     "metadata": {},
     "output_type": "execute_result"
    }
   ],
   "source": [
    "# 40dB = 2000upa\n",
    "db_40 = 40\n",
    "20*10**(db_40/20)"
   ]
  }
 ],
 "metadata": {
  "colab": {
   "authorship_tag": "ABX9TyNuy8nFyZsCqfcHKKs2ys9H",
   "collapsed_sections": [],
   "name": "作業_Hong題目.ipynb",
   "provenance": []
  },
  "kernelspec": {
   "display_name": "Python 3",
   "language": "python",
   "name": "python3"
  },
  "language_info": {
   "codemirror_mode": {
    "name": "ipython",
    "version": 3
   },
   "file_extension": ".py",
   "mimetype": "text/x-python",
   "name": "python",
   "nbconvert_exporter": "python",
   "pygments_lexer": "ipython3",
   "version": "3.7.9"
  }
 },
 "nbformat": 4,
 "nbformat_minor": 1
}
