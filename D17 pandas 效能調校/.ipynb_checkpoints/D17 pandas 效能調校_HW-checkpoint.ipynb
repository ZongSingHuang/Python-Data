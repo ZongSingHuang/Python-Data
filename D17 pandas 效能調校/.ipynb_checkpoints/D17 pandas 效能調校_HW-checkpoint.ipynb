{
 "cells": [
  {
   "cell_type": "markdown",
   "metadata": {},
   "source": [
    "問:在速度較慢的時候，可以先從哪邊開始檢查?"
   ]
  },
  {
   "cell_type": "markdown",
   "metadata": {},
   "source": [
    "答:更改文件格式，pkl最快；xlsx最慢。使用pandas內建函數。"
   ]
  },
  {
   "attachments": {},
   "cell_type": "markdown",
   "metadata": {},
   "source": [
    "問:資料過大時應採取什麼方式讓記憶體占用量下降?!"
   ]
  },
  {
   "cell_type": "markdown",
   "metadata": {},
   "source": [
    "答:更改數值型態，例如float64=>float32；int64=>int32"
   ]
  },
  {
   "cell_type": "code",
   "execution_count": null,
   "metadata": {},
   "outputs": [],
   "source": []
  }
 ],
 "metadata": {
  "kernelspec": {
   "display_name": "Python 3",
   "language": "python",
   "name": "python3"
  },
  "language_info": {
   "codemirror_mode": {
    "name": "ipython",
    "version": 3
   },
   "file_extension": ".py",
   "mimetype": "text/x-python",
   "name": "python",
   "nbconvert_exporter": "python",
   "pygments_lexer": "ipython3",
   "version": "3.7.9"
  }
 },
 "nbformat": 4,
 "nbformat_minor": 4
}
